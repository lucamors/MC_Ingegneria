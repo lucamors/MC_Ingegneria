{
 "cells": [
  {
   "cell_type": "markdown",
   "metadata": {},
   "source": [
    "# Introduzione al Metodo Monte Carlo"
   ]
  },
  {
   "cell_type": "markdown",
   "metadata": {},
   "source": [
    "## L'algoritmo RANDU\n",
    "\n",
    "Innanzitutto importiamo le seguenti librerie:\n",
    "\n",
    "1. Numpy\n",
    "2. Matplotlib"
   ]
  },
  {
   "cell_type": "code",
   "execution_count": 56,
   "metadata": {},
   "outputs": [],
   "source": [
    "import numpy as np\n",
    "import matplotlib.pyplot as plt\n",
    "from mpl_toolkits.mplot3d import axes3d  \n",
    "%matplotlib widget\n"
   ]
  },
  {
   "cell_type": "markdown",
   "metadata": {},
   "source": [
    "Definiamo una funzione seguendo la prescrizione dell'algoritmo RANDU:"
   ]
  },
  {
   "cell_type": "code",
   "execution_count": 57,
   "metadata": {},
   "outputs": [],
   "source": [
    "def randu(x):\n",
    "    \n",
    "    return float((65539*float(x) % 2**31))"
   ]
  },
  {
   "cell_type": "markdown",
   "metadata": {},
   "source": [
    "Ora possiamo sfruttare questa funzione per generare dei numeri casuali distribuiti in maniera uniforme tra [0,1]"
   ]
  },
  {
   "cell_type": "code",
   "execution_count": 58,
   "metadata": {},
   "outputs": [],
   "source": [
    "numeri_casuali = []\n",
    "x0 = 1\n",
    "\n",
    "numeri_casuali.append(x0)\n",
    "\n",
    "for i in range(30000):\n",
    "    x = randu(numeri_casuali[-1])\n",
    "    numeri_casuali.append(x)\n",
    "\n",
    "numeri_casuali = np.array(numeri_casuali[1:])/2**31\n"
   ]
  },
  {
   "cell_type": "markdown",
   "metadata": {},
   "source": [
    "Ora prendiamo i numeri in tripletti $(x_k,y_k,z_k)$ :"
   ]
  },
  {
   "cell_type": "code",
   "execution_count": 59,
   "metadata": {},
   "outputs": [],
   "source": [
    "x = numeri_casuali[0::3]\n",
    "y = numeri_casuali[1::3]\n",
    "z = numeri_casuali[2::3]\n"
   ]
  },
  {
   "cell_type": "code",
   "execution_count": 60,
   "metadata": {},
   "outputs": [
    {
     "data": {
      "application/vnd.jupyter.widget-view+json": {
       "model_id": "c1f9051fad354c878a8a29769f42ff46",
       "version_major": 2,
       "version_minor": 0
      },
      "text/plain": [
       "Canvas(toolbar=Toolbar(toolitems=[('Home', 'Reset original view', 'home', 'home'), ('Back', 'Back to previous …"
      ]
     },
     "metadata": {},
     "output_type": "display_data"
    }
   ],
   "source": [
    "fig = plt.figure()\n",
    "ax = fig.add_subplot(projection='3d')\n",
    "ax.scatter(x, y, z, s=1)\n",
    "plt.show()"
   ]
  },
  {
   "cell_type": "code",
   "execution_count": 61,
   "metadata": {},
   "outputs": [
    {
     "data": {
      "application/vnd.jupyter.widget-view+json": {
       "model_id": "2b23702bf1c34902bec6c9378ba114f8",
       "version_major": 2,
       "version_minor": 0
      },
      "text/plain": [
       "Canvas(toolbar=Toolbar(toolitems=[('Home', 'Reset original view', 'home', 'home'), ('Back', 'Back to previous …"
      ]
     },
     "metadata": {},
     "output_type": "display_data"
    }
   ],
   "source": [
    "f,ax = plt.subplots()\n",
    "ax.hist(numeri_casuali,bins=100)\n",
    "ax.set_xlabel(\"Random Number\",fontsize=15)\n",
    "ax.set_ylabel(\"Conteggi\",fontsize=15)\n",
    "plt.show()"
   ]
  },
  {
   "cell_type": "markdown",
   "metadata": {},
   "source": [
    "## La Libreria Numpy e la generazione di Numeri Pseudo-Random\n",
    "\n",
    "Vediamo ora come utilizzare la libreria Numpy per la generazione di numeri $\\textbf{pseudo-random}$ distribuiti secondo diversi distribuzioni di probabilità.\n",
    "\n",
    "Numpy di fatto fornisce all'utente un interfaccia ad alto livello che non richiede la conoscenza della particolare implementazione dell'algoritmo\n"
   ]
  },
  {
   "cell_type": "code",
   "execution_count": 62,
   "metadata": {},
   "outputs": [],
   "source": [
    "import numpy as np"
   ]
  },
  {
   "cell_type": "markdown",
   "metadata": {},
   "source": [
    "Generiamo ora $10^6$ numeri casuali distribuiti secondo una distribuzione gaussiana:  $X \\sim \\mathcal{N}(0,1)$ (sono disponibili molte distribuzioni https://numpy.org/doc/1.16/reference/routines.random.html)"
   ]
  },
  {
   "cell_type": "code",
   "execution_count": 63,
   "metadata": {},
   "outputs": [],
   "source": [
    "X = np.random.normal(0,1,int(1e6))"
   ]
  },
  {
   "cell_type": "markdown",
   "metadata": {},
   "source": [
    "X è un vettore di numpy (ndarray sta per vettore n-dimensionale) anche se la dimensione è 1 in questo caso.\n",
    "Con questi numeri possiamo fare "
   ]
  },
  {
   "cell_type": "code",
   "execution_count": 64,
   "metadata": {},
   "outputs": [
    {
     "data": {
      "text/plain": [
       "numpy.ndarray"
      ]
     },
     "execution_count": 64,
     "metadata": {},
     "output_type": "execute_result"
    }
   ],
   "source": [
    "type(X)"
   ]
  },
  {
   "cell_type": "code",
   "execution_count": 65,
   "metadata": {},
   "outputs": [
    {
     "data": {
      "text/plain": [
       "(1000000,)"
      ]
     },
     "execution_count": 65,
     "metadata": {},
     "output_type": "execute_result"
    }
   ],
   "source": [
    "X.shape"
   ]
  },
  {
   "cell_type": "markdown",
   "metadata": {},
   "source": [
    "Utilizziamo ora Matplotlib.pyplot per graficare i numeri che abbiamo appena campionato, utilizzeremo \n",
    "un tipo di grafico diverso, l'istogramma, attraverso l'uso della classe $\\texttt{hist}$ di Matplotlib"
   ]
  },
  {
   "cell_type": "code",
   "execution_count": 66,
   "metadata": {},
   "outputs": [],
   "source": [
    "import matplotlib.pyplot as plt"
   ]
  },
  {
   "cell_type": "code",
   "execution_count": 67,
   "metadata": {},
   "outputs": [
    {
     "data": {
      "application/vnd.jupyter.widget-view+json": {
       "model_id": "8656f9814b61412f80653b17ad266032",
       "version_major": 2,
       "version_minor": 0
      },
      "text/plain": [
       "Canvas(toolbar=Toolbar(toolitems=[('Home', 'Reset original view', 'home', 'home'), ('Back', 'Back to previous …"
      ]
     },
     "metadata": {},
     "output_type": "display_data"
    }
   ],
   "source": [
    "f,ax = plt.subplots()\n",
    "plt.hist(X,bins=100, density=True, histtype='stepfilled',color='red',alpha=0.4)\n",
    "plt.xlabel('X',fontsize=15)\n",
    "plt.ylabel('PDF(X)',fontsize=15)\n",
    "plt.show()"
   ]
  },
  {
   "cell_type": "markdown",
   "metadata": {},
   "source": [
    "## Esempio: Stima di $\\pi$"
   ]
  },
  {
   "cell_type": "markdown",
   "metadata": {},
   "source": [
    "Uno degli esempi più semplici che possiamo fare di impiego del Metodo Monte Carlo riguarda la stima di $\\pi$ ed è \n",
    "intrinsecamente collegata all'integrazione numerica.\n",
    "\n",
    "L'equazione che descrive il cerchio in $\\mathbf{R}^2$ è data da:\n",
    "\n",
    "$$\n",
    "x^2+y^2=r^2\n",
    "$$\n",
    "\n",
    "Possiamo invertire la formula esplicitando $y$:\n",
    "\n",
    "$$\n",
    "y = \\pm \\sqrt{r^2-x^2}\n",
    "$$\n",
    "\n",
    "possiamo tenere la soluzione positiva e considerare la funzione solamente nel dominio $\\mathbf{R}_{\\geq 0}$, l'area sotto la curva è data da:\n",
    "\n",
    "$$\n",
    "A = \\frac{\\pi r^2}{4}\n",
    "$$\n",
    "\n",
    "Conoscendo l'area $A$ è dunque possibile ottenere $\\pi$:\n",
    "\n",
    "$$\n",
    "\\pi = \\frac{A r^2}{4}\n",
    "$$\n",
    "\n",
    "Possiamo utilizzare il Metodo Monte Carlo per la stima dell'area A generando coppie di numeri casuali all'interno del quadrato $[0,r]\\times[0,r]$:\n",
    "\n",
    "$$\n",
    "A \\approx \\dfrac{H}{H+M} \\cdot r^2\n",
    "$$\n",
    "\n",
    "dove $H$ (Hit) rappresenta il numero di volte in cui il punto campionato è al di sotto la curva mentre M ( Miss ) è il numero di volte in cui è al di sopra della curva.\n",
    "\n",
    "Per semplicità vediamo l'esempio in cui $r=1$.\n"
   ]
  },
  {
   "cell_type": "markdown",
   "metadata": {},
   "source": [
    "Innanzitutto definiamo la funzione di cui vogliamo calcolare l'integrale:"
   ]
  },
  {
   "cell_type": "code",
   "execution_count": 68,
   "metadata": {},
   "outputs": [],
   "source": [
    "def f(x):\n",
    "    return np.sqrt(1-x**2)"
   ]
  },
  {
   "cell_type": "code",
   "execution_count": 69,
   "metadata": {},
   "outputs": [
    {
     "data": {
      "application/vnd.jupyter.widget-view+json": {
       "model_id": "a775690e8a1a4c08b85ed44f2303714c",
       "version_major": 2,
       "version_minor": 0
      },
      "text/plain": [
       "Canvas(toolbar=Toolbar(toolitems=[('Home', 'Reset original view', 'home', 'home'), ('Back', 'Back to previous …"
      ]
     },
     "metadata": {},
     "output_type": "display_data"
    }
   ],
   "source": [
    "x = np.linspace(0,1,1000)\n",
    "y = f(x) \n",
    "fig,ax = plt.subplots(figsize=(4,4))\n",
    "ax.plot(x,y,color='red',linestyle='-')\n",
    "ax.set_xlabel(\"X\",fontsize=8)\n",
    "ax.set_ylabel(\"Y\",fontsize=8)\n",
    "plt.show()"
   ]
  },
  {
   "cell_type": "markdown",
   "metadata": {},
   "source": [
    "Generiamo ora $N=10^6$ punti all'interno del quadrato $[0,1]\\times[0,1]$"
   ]
  },
  {
   "cell_type": "code",
   "execution_count": 70,
   "metadata": {},
   "outputs": [],
   "source": [
    "N = int(1e5)\n",
    "punti = np.random.uniform(0,1,(N,2))"
   ]
  },
  {
   "cell_type": "markdown",
   "metadata": {},
   "source": [
    "Possiamo ora stimare $\\pi$:"
   ]
  },
  {
   "cell_type": "code",
   "execution_count": 71,
   "metadata": {},
   "outputs": [],
   "source": [
    "n=0\n",
    "\n",
    "list_x_inside = []\n",
    "list_y_inside = []\n",
    "\n",
    "list_x_outside = []\n",
    "list_y_outside = []\n",
    "\n",
    "stima_pi = []\n",
    "\n",
    "for idx,punto in enumerate(punti):\n",
    "    x,y = punto\n",
    "    if(y < f(x)): \n",
    "        n = n+1\n",
    "        list_x_inside.append(x)\n",
    "        list_y_inside.append(y)\n",
    "    else:\n",
    "        list_x_outside.append(x)\n",
    "        list_y_outside.append(y)\n",
    "    \n",
    "    stima_pi.append(4*n/(idx+1))"
   ]
  },
  {
   "cell_type": "code",
   "execution_count": 72,
   "metadata": {},
   "outputs": [
    {
     "data": {
      "application/vnd.jupyter.widget-view+json": {
       "model_id": "d7004f5e7d794c22ac4902af9198d241",
       "version_major": 2,
       "version_minor": 0
      },
      "text/plain": [
       "Canvas(toolbar=Toolbar(toolitems=[('Home', 'Reset original view', 'home', 'home'), ('Back', 'Back to previous …"
      ]
     },
     "metadata": {},
     "output_type": "display_data"
    }
   ],
   "source": [
    "fig,ax = plt.subplots(figsize=(4,4))\n",
    "plt.scatter(list_x_inside,list_y_inside,color='red',s=1, label='Hit')\n",
    "plt.scatter(list_x_outside,list_y_outside,color='black',s=1, label='Miss')\n",
    "plt.legend()\n",
    "plt.show()"
   ]
  },
  {
   "cell_type": "code",
   "execution_count": 73,
   "metadata": {},
   "outputs": [
    {
     "data": {
      "application/vnd.jupyter.widget-view+json": {
       "model_id": "fd98da0cf49e405d8a031f24ba91d6c3",
       "version_major": 2,
       "version_minor": 0
      },
      "text/plain": [
       "Canvas(toolbar=Toolbar(toolitems=[('Home', 'Reset original view', 'home', 'home'), ('Back', 'Back to previous …"
      ]
     },
     "metadata": {},
     "output_type": "display_data"
    }
   ],
   "source": [
    "fig,ax = plt.subplots(figsize=(4,4))\n",
    "plt.plot(stima_pi)\n",
    "plt.plot(np.ones(len(stima_pi))*np.pi)\n",
    "plt.ylim(3,3.5)\n",
    "plt.xlabel(\"Numeri casuali generati\",fontsize=15)\n",
    "plt.ylabel(\"Stima pi greco\", fontsize=15)\n",
    "plt.show()"
   ]
  },
  {
   "cell_type": "code",
   "execution_count": 74,
   "metadata": {},
   "outputs": [
    {
     "name": "stdout",
     "output_type": "stream",
     "text": [
      "Stima di Pi Greco  : 3.14996\n"
     ]
    }
   ],
   "source": [
    "print(\"Stima di Pi Greco  :\", stima_pi[-1])"
   ]
  },
  {
   "cell_type": "markdown",
   "metadata": {},
   "source": [
    "## Esempio : Operazioni tra variabili distribuite normalmente\n",
    "\n",
    "Consideriamo un esempio molto semplice. \n",
    "\n",
    "Abbiamo una sbarra di metallo di lunghezza $L_{sbarra} = 25$ cm che dato il processo produttivo è accompagnata da una tolleranza $T=1$ cm.\n",
    "Alla fine della sbarra va montano un supporto di lunghezza $L_{supporto} = 10 $ cm avente la stessa tolleranza della sbarra.\n",
    "\n",
    "Vogliamo vedere come si sommano le tolleranze dell'assemblato finale sbarra+supporto.\n",
    "\n",
    "Per fare questo dobbiamo conoscere la distribuzione di probabilità associata al processo di produzione, supponiamo per questo esempio semplice che le tolleranze\n",
    "descrivano la deviazione standard di una distribuzione normale attorno al valor medio definito dalla lunghezza dell'oggetto in esame.\n",
    "\n",
    "In questo caso è possibile procedere anche per via analitica sfruttando le proprietà della distribuzione normale, possiamo quindi confrontare\n",
    "i risultati del Metodo Monte Carlo con il risultato analitico previsto.\n",
    "\n",
    "Un piccolo reminder sulla distribuzione normale:\n",
    "\n",
    "### Definizione a partire dalla distribuzione normale\n",
    "$$\n",
    "\\mathcal{N}(\\mu_1,\\sigma_1) = \\mu_1 + \\mathcal{N}(0,1) \\cdot \\sigma_1\n",
    "$$\n",
    "\n",
    "### Somma di variabili gaussiane\n",
    "$$\n",
    "X \\sim \\mathcal{N}(\\mu_1,\\sigma_1)\n",
    "$$\n",
    "$$\n",
    "Y \\sim \\mathcal{N}(\\mu_2,\\sigma_2)\n",
    "$$\n",
    "allora\n",
    "$$\n",
    "Z = X + Y = \\sim \\mathcal{N}(\\mu_1+\\mu_2,\\sqrt{\\sigma_1^2+\\sigma_2^2})\n",
    "$$\n",
    "\n",
    "### Lunghezza di sbarra + supporto\n",
    "\n",
    "Possiamo allora definire la lunghezza della nostra sbarra come:\n",
    "$$\n",
    "\\mathbf{L} = \\mathcal{N}(L_{sbarra},T)\n",
    "$$\n",
    "mentre per il supporto\n",
    "$$\n",
    "\\mathbf{S} = \\mathcal{N}(L_{supporto},T)\n",
    "$$\n",
    "otteniamo dunque:\n",
    "$$\n",
    "\\mathbf{L}+\\mathbf{S} = \\mathcal{N}(L_{sbarra},T) + \\mathcal{N}(L_{supporto},T) = \\mathcal{N}(L_{sbarra}+L_{supporto},\\sqrt{2}T)\n",
    "$$\n"
   ]
  },
  {
   "cell_type": "code",
   "execution_count": 75,
   "metadata": {},
   "outputs": [],
   "source": [
    "def sum_distributions(pars):\n",
    "    \n",
    "    return sum(pars)\n",
    "\n",
    "def gaussian(x,mu=0,sigma=1):\n",
    "    return 1.0/(sigma*np.sqrt(2*np.pi)) * np.exp(-0.5*((x-mu)/sigma)**2)"
   ]
  },
  {
   "cell_type": "markdown",
   "metadata": {},
   "source": [
    "Proviamo ora a graficare la distribuzione della variabile casuale Y = $\\mathcal{N}(0,1) + \\mathcal{N}(1,1)$"
   ]
  },
  {
   "cell_type": "code",
   "execution_count": 76,
   "metadata": {},
   "outputs": [
    {
     "data": {
      "application/vnd.jupyter.widget-view+json": {
       "model_id": "aac7bd609548474ebb271c3e18107e20",
       "version_major": 2,
       "version_minor": 0
      },
      "text/plain": [
       "Canvas(toolbar=Toolbar(toolitems=[('Home', 'Reset original view', 'home', 'home'), ('Back', 'Back to previous …"
      ]
     },
     "metadata": {},
     "output_type": "display_data"
    }
   ],
   "source": [
    "X1 = np.random.normal(25,1,int(1e6))\n",
    "X2 = np.random.normal(10,1,int(1e6))\n",
    "\n",
    "Y  = sum_distributions([X1,X2])\n",
    "\n",
    "f,ax = plt.subplots()\n",
    "plt.hist(X1,bins=100, density=True, histtype='stepfilled',color='red',alpha=0.5, label=r'X1$\\sim \\mathcal{N}(L_{sbarra},T)$')\n",
    "plt.hist(X2,bins=100, density=True, histtype='stepfilled',color='green',alpha=0.5, label='X2$\\sim \\mathcal{N}(L_{supporto},T)$')\n",
    "plt.hist(Y,bins=100, density=True, histtype='stepfilled',color='blue',alpha=0.5, label='Y = X1 + X2')\n",
    "\n",
    "plt.plot(np.linspace(20,50,1000),gaussian(np.linspace(20,50,1000),35,np.sqrt(2)), color='black', label=r'$\\mathcal{N}(L_{sbarra}+L_{supporto},\\sqrt{2}T)$')\n",
    "\n",
    "plt.xlabel('var',fontsize=15)\n",
    "plt.ylabel('PDF',fontsize=15)\n",
    "plt.legend(fontsize=10)\n",
    "plt.show()"
   ]
  },
  {
   "cell_type": "code",
   "execution_count": null,
   "metadata": {},
   "outputs": [],
   "source": []
  }
 ],
 "metadata": {
  "kernelspec": {
   "display_name": "Python 3",
   "language": "python",
   "name": "python3"
  },
  "language_info": {
   "codemirror_mode": {
    "name": "ipython",
    "version": 3
   },
   "file_extension": ".py",
   "mimetype": "text/x-python",
   "name": "python",
   "nbconvert_exporter": "python",
   "pygments_lexer": "ipython3",
   "version": "3.8.10"
  }
 },
 "nbformat": 4,
 "nbformat_minor": 4
}
